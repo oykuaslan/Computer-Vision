{
 "cells": [
  {
   "cell_type": "code",
   "execution_count": 1,
   "metadata": {},
   "outputs": [],
   "source": [
    "import numpy as np\n",
    "import matplotlib.pyplot as plt\n",
    "import cv2\n",
    "import scipy.linalg as la\n",
    "from matplotlib.patches import Ellipse\n",
    "import matplotlib as mpl"
   ]
  },
  {
   "cell_type": "markdown",
   "metadata": {},
   "source": [
    "<h4> Read Image and Change color to Gray</h4>"
   ]
  },
  {
   "cell_type": "code",
   "execution_count": 2,
   "metadata": {},
   "outputs": [
    {
     "data": {
      "text/plain": [
       "<matplotlib.image.AxesImage at 0x24f004c0c70>"
      ]
     },
     "execution_count": 2,
     "metadata": {},
     "output_type": "execute_result"
    },
    {
     "data": {
      "image/png": "[encoded data removed]",
      "text/plain": [
       "<Figure size 432x288 with 1 Axes>"
      ]
     },
     "metadata": {
      "needs_background": "light"
     },
     "output_type": "display_data"
    }
   ],
   "source": [
    "image=cv2.imread('harris.jpg')\n",
    "plt.imshow(image)"
   ]
  },
  {
   "cell_type": "code",
   "execution_count": 3,
   "metadata": {},
   "outputs": [
    {
     "data": {
      "text/plain": [
       "<matplotlib.image.AxesImage at 0x24f00df6d60>"
      ]
     },
     "execution_count": 3,
     "metadata": {},
     "output_type": "execute_result"
    },
    {
     "data": {
      "image/png": "[encoded data removed]",
      "text/plain": [
       "<Figure size 432x288 with 1 Axes>"
      ]
     },
     "metadata": {
      "needs_background": "light"
     },
     "output_type": "display_data"
    }
   ],
   "source": [
    "gray_image = cv2.cvtColor(image, cv2.COLOR_BGR2GRAY)\n",
    "plt.imshow(gray_image, cmap = plt.get_cmap('gray'))"
   ]
  },
  {
   "cell_type": "markdown",
   "metadata": {},
   "source": [
    "<h4>Gaussian kernel(with derivative) </h4>"
   ]
  },
  {
   "cell_type": "code",
   "execution_count": 4,
   "metadata": {},
   "outputs": [
    {
     "name": "stdout",
     "output_type": "stream",
     "text": [
      "[[0.01831564 0.082085   0.13533528 0.082085   0.01831564]\n",
      " [0.082085   0.36787944 0.60653066 0.36787944 0.082085  ]\n",
      " [0.13533528 0.60653066 1.         0.60653066 0.13533528]\n",
      " [0.082085   0.36787944 0.60653066 0.36787944 0.082085  ]\n",
      " [0.01831564 0.082085   0.13533528 0.082085   0.01831564]]\n"
     ]
    },
    {
     "data": {
      "text/plain": [
       "<matplotlib.image.AxesImage at 0x24f00e60310>"
      ]
     },
     "execution_count": 4,
     "metadata": {},
     "output_type": "execute_result"
    },
    {
     "data": {
      "image/png": "[encoded data removed]",
      "text/plain": [
       "<Figure size 432x288 with 1 Axes>"
      ]
     },
     "metadata": {
      "needs_background": "light"
     },
     "output_type": "display_data"
    }
   ],
   "source": [
    "sigma_square=1\n",
    "x,y = np.meshgrid(np.linspace(-2,2,5), np.linspace(-2,2,5))\n",
    "gaus = (np.exp(-(x**2+y**2)/(2*sigma_square)))\n",
    "print(gaus)\n",
    "plt.imshow(gaus)"
   ]
  },
  {
   "cell_type": "markdown",
   "metadata": {},
   "source": [
    "<h4> Gaussian kernels with x and y derivatives  </h4>"
   ]
  },
  {
   "cell_type": "code",
   "execution_count": 5,
   "metadata": {},
   "outputs": [],
   "source": [
    "gausx = x*(np.exp(-(x**2+y**2)/(2*sigma_square)))\n",
    "gausy = y*(np.exp(-(x**2+y**2)/(2*sigma_square)))\n"
   ]
  },
  {
   "cell_type": "code",
   "execution_count": 6,
   "metadata": {},
   "outputs": [
    {
     "data": {
      "text/plain": [
       "<matplotlib.image.AxesImage at 0x24f00eaf910>"
      ]
     },
     "execution_count": 6,
     "metadata": {},
     "output_type": "execute_result"
    },
    {
     "data": {
      "image/png": "[encoded data removed]",
      "text/plain": [
       "<Figure size 432x288 with 1 Axes>"
      ]
     },
     "metadata": {
      "needs_background": "light"
     },
     "output_type": "display_data"
    }
   ],
   "source": [
    "dx=cv2.filter2D(gray_image, -1, gausx)\n",
    "plt.imshow(dx, cmap = plt.get_cmap('gray'))"
   ]
  },
  {
   "cell_type": "code",
   "execution_count": 7,
   "metadata": {},
   "outputs": [
    {
     "data": {
      "text/plain": [
       "<matplotlib.image.AxesImage at 0x24f00efff10>"
      ]
     },
     "execution_count": 7,
     "metadata": {},
     "output_type": "execute_result"
    },
    {
     "data": {
      "image/png": "[encoded data removed]",
      "text/plain": [
       "<Figure size 432x288 with 1 Axes>"
      ]
     },
     "metadata": {
      "needs_background": "light"
     },
     "output_type": "display_data"
    }
   ],
   "source": [
    "dy=cv2.filter2D(gray_image, -1, gausy)\n",
    "plt.imshow(dy, cmap = plt.get_cmap('gray'))"
   ]
  },
  {
   "cell_type": "code",
   "execution_count": 8,
   "metadata": {},
   "outputs": [
    {
     "name": "stdout",
     "output_type": "stream",
     "text": [
      "(600, 600)\n"
     ]
    }
   ],
   "source": [
    "shape=gray_image.shape\n",
    "print(shape)\n",
    "height=shape[0]\n",
    "width=shape[1]"
   ]
  },
  {
   "cell_type": "markdown",
   "metadata": {},
   "source": [
    "<h4> Product of derivatives </h4>"
   ]
  },
  {
   "cell_type": "code",
   "execution_count": 9,
   "metadata": {},
   "outputs": [],
   "source": [
    "Ixx=dx*dx\n",
    "Iyy=dy*dy\n",
    "Ixy=dx*dy"
   ]
  },
  {
   "cell_type": "markdown",
   "metadata": {},
   "source": [
    "<h4>Sum of products of derivatives at each pixel </h4>"
   ]
  },
  {
   "cell_type": "code",
   "execution_count": 10,
   "metadata": {},
   "outputs": [],
   "source": [
    "Sxx=cv2.filter2D(Ixx, -1, gaus)\n",
    "Syy=cv2.filter2D(Iyy, -1, gaus )\n",
    "Sxy=cv2.filter2D(Ixy, -1, gaus)"
   ]
  },
  {
   "cell_type": "markdown",
   "metadata": {},
   "source": [
    "<h4>Create second moment matrix and compute corner response function </h4>"
   ]
  },
  {
   "cell_type": "code",
   "execution_count": 12,
   "metadata": {},
   "outputs": [],
   "source": [
    "alpha = 0.04;\n",
    "Threshold = 10000;\n",
    "im=np.zeros((height, width))\n",
    "for x in range(0,height):\n",
    "    for y in range(0, width):\n",
    "        matrix=np.array([[Sxx[x][y],Sxy[x][y]],[Syy[x][y],Sxy[x][y]]])\n",
    "        r=np.linalg.det(matrix) - (alpha * np.square(np.trace(matrix)))\n",
    "        #print(x, y, r)\n",
    "        if (r > Threshold):\n",
    "            im[x][y] = r;\n",
    "        \n",
    "                            "
   ]
  },
  {
   "cell_type": "markdown",
   "metadata": {},
   "source": [
    "<h4>Compute nonmax supression and show points on a plot </h4>"
   ]
  },
  {
   "cell_type": "code",
   "execution_count": 13,
   "metadata": {},
   "outputs": [
    {
     "data": {
      "text/plain": [
       "<matplotlib.image.AxesImage at 0x24f0161dc70>"
      ]
     },
     "execution_count": 13,
     "metadata": {},
     "output_type": "execute_result"
    },
    {
     "data": {
      "image/png": "[encoded data removed]",
      "text/plain": [
       "<Figure size 432x288 with 1 Axes>"
      ]
     },
     "metadata": {
      "needs_background": "light"
     },
     "output_type": "display_data"
    }
   ],
   "source": [
    "kernel=np.array([[1, 1, 1],[1, 0, 1],[1, 1, 1]], dtype = np.uint8)\n",
    "img_dilation = cv2.dilate(im, kernel)\n",
    "plt.imshow(img_dilation, cmap = plt.get_cmap('gray'))"
   ]
  },
  {
   "cell_type": "markdown",
   "metadata": {},
   "source": [
    "<h4> Show corners on image </h4>"
   ]
  },
  {
   "cell_type": "code",
   "execution_count": 32,
   "metadata": {
    "scrolled": true
   },
   "outputs": [
    {
     "data": {
      "text/plain": [
       "<matplotlib.image.AxesImage at 0x24f0379a220>"
      ]
     },
     "execution_count": 32,
     "metadata": {},
     "output_type": "execute_result"
    },
    {
     "data": {
      "image/png": "[encoded data removed]",
      "text/plain": [
       "<Figure size 432x288 with 1 Axes>"
      ]
     },
     "metadata": {
      "needs_background": "light"
     },
     "output_type": "display_data"
    }
   ],
   "source": [
    "image_copy = cv2.cvtColor(image, cv2.COLOR_BGR2RGB)\n",
    "corner_image = np.copy(image_copy)\n",
    "for j in range(0, img_dilation.shape[0]):\n",
    "    for i in range(0, img_dilation.shape[1]):\n",
    "        if(img_dilation[j,i] > Threshold):\n",
    "            cv2.circle(corner_image, (i, j), 4, (255,0,0), 1)\n",
    "plt.imshow(corner_image)\n"
   ]
  },
  {
   "cell_type": "markdown",
   "metadata": {},
   "source": [
    "<h4> Calculating eigenvalues and eigenvectors and drawing ellipses </h4>"
   ]
  },
  {
   "cell_type": "code",
   "execution_count": 33,
   "metadata": {},
   "outputs": [
    {
     "name": "stderr",
     "output_type": "stream",
     "text": [
      "<ipython-input-33-a653acb31dd7>:14: RuntimeWarning: invalid value encountered in power\n",
      "  w=eigvals[0]**(-1/2)\n",
      "<ipython-input-33-a653acb31dd7>:15: RuntimeWarning: invalid value encountered in power\n",
      "  h=eigvals[1]**(-1/2)\n",
      "<ipython-input-33-a653acb31dd7>:9: RuntimeWarning: invalid value encountered in power\n",
      "  h=eigvals[0]**(-1/2)\n",
      "C:\\Users\\MSI-ALPX\\anaconda3\\lib\\site-packages\\matplotlib\\transforms.py:1999: ComplexWarning: Casting complex values to real discards the imaginary part\n",
      "  scale_mtx = np.array(\n"
     ]
    },
    {
     "data": {
      "image/png": "[encoded data removed]",
      "text/plain": [
       "<Figure size 432x288 with 1 Axes>"
      ]
     },
     "metadata": {
      "needs_background": "light"
     },
     "output_type": "display_data"
    }
   ],
   "source": [
    "fig, ax = plt.subplots()\n",
    "ax.imshow(image)\n",
    "for x in range(0,height):\n",
    "    for y in range(0, width):\n",
    "        matrix=np.array([[Sxx[x][y],Sxy[x][y]],[Syy[x][y],Sxy[x][y]]])\n",
    "        eigvals, eigvecs = la.eig(matrix)\n",
    "        if(eigvals[0]<eigvals[1]):\n",
    "                    w=eigvals[1]**(-1/2)\n",
    "                    h=eigvals[0]**(-1/2)\n",
    "                    #Not sure how to use eigenvectors to determine angles\n",
    "                    ells = Ellipse(xy=[y,x], width=w, height=h,angle=180,edgecolor='b', lw=4, facecolor='none')\n",
    "                    ax.add_artist(ells)                  \n",
    "        if(eigvals[0]>=eigvals[1]):\n",
    "                    w=eigvals[0]**(-1/2)\n",
    "                    h=eigvals[1]**(-1/2)\n",
    "                    ells = Ellipse(xy=[y,x], width=w, height=h,angle=180,edgecolor='b', lw=4, facecolor='none')\n",
    "                    ax.add_artist(ells)                    \n",
    "plt.show()         "
   ]
  },
  {
   "cell_type": "code",
   "execution_count": null,
   "metadata": {},
   "outputs": [],
   "source": []
  }
 ],
 "metadata": {
  "kernelspec": {
   "display_name": "Python 3",
   "language": "python",
   "name": "python3"
  },
  "language_info": {
   "codemirror_mode": {
    "name": "ipython",
    "version": 3
   },
   "file_extension": ".py",
   "mimetype": "text/x-python",
   "name": "python",
   "nbconvert_exporter": "python",
   "pygments_lexer": "ipython3",
   "version": "3.7.4"
  }
 },
 "nbformat": 4,
 "nbformat_minor": 4
}
